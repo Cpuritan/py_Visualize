{
 "cells": [
  {
   "cell_type": "code",
   "execution_count": 21,
   "metadata": {
    "ExecuteTime": {
     "end_time": "2022-05-07T04:45:14.038835Z",
     "start_time": "2022-05-07T04:45:14.021838Z"
    }
   },
   "outputs": [],
   "source": [
    "import pandas as pd\n",
    "import numpy as np\n",
    "from pyecharts.charts import *\n",
    "import pyecharts.options as opts\n",
    "\n",
    "from pyecharts.globals import CurrentConfig, NotebookType\n",
    "CurrentConfig.NOTEBOOK_TYPE = NotebookType.JUPYTER_LAB"
   ]
  },
  {
   "cell_type": "code",
   "execution_count": 2,
   "metadata": {
    "ExecuteTime": {
     "end_time": "2022-05-07T04:45:15.312029Z",
     "start_time": "2022-05-07T04:45:15.299037Z"
    },
    "pycharm": {
     "name": "#%%\n"
    }
   },
   "outputs": [],
   "source": [
    "df = pd.read_csv(r'2022北京冬奥会奖牌榜.csv')\n",
    "df = df.sort_values('排名',ascending=False)\n",
    "df1 = pd.read_csv(r'./2022北京冬奥会奖牌榜明细.csv')"
   ]
  },
  {
   "cell_type": "code",
   "execution_count": 3,
   "metadata": {
    "ExecuteTime": {
     "end_time": "2022-05-07T04:45:15.913869Z",
     "start_time": "2022-05-07T04:45:15.895734Z"
    },
    "pycharm": {
     "name": "#%%\n"
    }
   },
   "outputs": [
    {
     "data": {
      "text/plain": "    排名    国家  金牌  银牌  铜牌  总数  \\\n28  29    波兰   0   0   1   1   \n27  28  拉脱维亚   0   0   1   1   \n26  27  爱沙尼亚   0   0   1   1   \n25  26   乌克兰   0   1   0   1   \n24  25   西班牙   0   1   0   1   \n\n                                                   国旗  \n28  https://search-operate.cdn.bcebos.com/ce6c0f30...  \n27  https://search-operate.cdn.bcebos.com/47fb4ad3...  \n26  https://search-operate.cdn.bcebos.com/84819e6d...  \n25  https://search-operate.cdn.bcebos.com/7e7082f1...  \n24  https://search-operate.cdn.bcebos.com/423b6f44...  ",
      "text/html": "<div>\n<style scoped>\n    .dataframe tbody tr th:only-of-type {\n        vertical-align: middle;\n    }\n\n    .dataframe tbody tr th {\n        vertical-align: top;\n    }\n\n    .dataframe thead th {\n        text-align: right;\n    }\n</style>\n<table border=\"1\" class=\"dataframe\">\n  <thead>\n    <tr style=\"text-align: right;\">\n      <th></th>\n      <th>排名</th>\n      <th>国家</th>\n      <th>金牌</th>\n      <th>银牌</th>\n      <th>铜牌</th>\n      <th>总数</th>\n      <th>国旗</th>\n    </tr>\n  </thead>\n  <tbody>\n    <tr>\n      <th>28</th>\n      <td>29</td>\n      <td>波兰</td>\n      <td>0</td>\n      <td>0</td>\n      <td>1</td>\n      <td>1</td>\n      <td>https://search-operate.cdn.bcebos.com/ce6c0f30...</td>\n    </tr>\n    <tr>\n      <th>27</th>\n      <td>28</td>\n      <td>拉脱维亚</td>\n      <td>0</td>\n      <td>0</td>\n      <td>1</td>\n      <td>1</td>\n      <td>https://search-operate.cdn.bcebos.com/47fb4ad3...</td>\n    </tr>\n    <tr>\n      <th>26</th>\n      <td>27</td>\n      <td>爱沙尼亚</td>\n      <td>0</td>\n      <td>0</td>\n      <td>1</td>\n      <td>1</td>\n      <td>https://search-operate.cdn.bcebos.com/84819e6d...</td>\n    </tr>\n    <tr>\n      <th>25</th>\n      <td>26</td>\n      <td>乌克兰</td>\n      <td>0</td>\n      <td>1</td>\n      <td>0</td>\n      <td>1</td>\n      <td>https://search-operate.cdn.bcebos.com/7e7082f1...</td>\n    </tr>\n    <tr>\n      <th>24</th>\n      <td>25</td>\n      <td>西班牙</td>\n      <td>0</td>\n      <td>1</td>\n      <td>0</td>\n      <td>1</td>\n      <td>https://search-operate.cdn.bcebos.com/423b6f44...</td>\n    </tr>\n  </tbody>\n</table>\n</div>"
     },
     "execution_count": 3,
     "metadata": {},
     "output_type": "execute_result"
    }
   ],
   "source": [
    "df.head()"
   ]
  },
  {
   "cell_type": "code",
   "execution_count": 4,
   "metadata": {
    "ExecuteTime": {
     "end_time": "2022-05-07T04:45:18.060750Z",
     "start_time": "2022-05-07T04:45:18.041828Z"
    },
    "pycharm": {
     "name": "#%%\n"
    }
   },
   "outputs": [],
   "source": [
    "df['国旗'] = df['国旗'].map(lambda x:'image://'+x)\n",
    "icon_data = dict(zip(df['国家'], df['国旗']))\n",
    "icons = []\n",
    "for icon,count in zip(df['国家'],df['总数']):\n",
    "    icons.append(dict(name=icon, value=count, symbol=icon_data[icon]))"
   ]
  },
  {
   "cell_type": "code",
   "execution_count": 5,
   "metadata": {
    "ExecuteTime": {
     "end_time": "2022-05-07T04:45:21.174297Z",
     "start_time": "2022-05-07T04:45:21.148822Z"
    },
    "code_folding": [
     0
    ]
   },
   "outputs": [],
   "source": [
    "# 国家名称中英文对照表\n",
    "### 补充：俄罗斯奥委会-->俄罗斯\n",
    "name_map = {\n",
    "    'Singapore Rep.': '新加坡',\n",
    "    'Dominican Rep.': '多米尼加',\n",
    "    'Palestine': '巴勒斯坦',\n",
    "    'Bahamas': '巴哈马',\n",
    "    'Timor-Leste': '东帝汶',\n",
    "    'Afghanistan': '阿富汗',\n",
    "    'Guinea-Bissau': '几内亚比绍',\n",
    "    \"Côte d'Ivoire\": '科特迪瓦',\n",
    "    'Siachen Glacier': '锡亚琴冰川',\n",
    "    \"Br. Indian Ocean Ter.\": '英属印度洋领土',\n",
    "    'Angola': '安哥拉',\n",
    "    'Albania': '阿尔巴尼亚',\n",
    "    'United Arab Emirates': '阿联酋',\n",
    "    'Argentina': '阿根廷',\n",
    "    'Armenia': '亚美尼亚',\n",
    "    'French Southern and Antarctic Lands': '法属南半球和南极领地',\n",
    "    'Australia': '澳大利亚',\n",
    "    'Austria': '奥地利',\n",
    "    'Azerbaijan': '阿塞拜疆',\n",
    "    'Burundi': '布隆迪',\n",
    "    'Belgium': '比利时',\n",
    "    'Benin': '贝宁',\n",
    "    'Burkina Faso': '布基纳法索',\n",
    "    'Bangladesh': '孟加拉国',\n",
    "    'Bulgaria': '保加利亚',\n",
    "    'The Bahamas': '巴哈马',\n",
    "    'Bosnia and Herz.': '波斯尼亚和黑塞哥维那',\n",
    "    'Belarus': '白俄罗斯',\n",
    "    'Belize': '伯利兹',\n",
    "    'Bermuda': '百慕大',\n",
    "    'Bolivia': '玻利维亚',\n",
    "    'Brazil': '巴西',\n",
    "    'Brunei': '文莱',\n",
    "    'Bhutan': '不丹',\n",
    "    'Botswana': '博茨瓦纳',\n",
    "    'Central African Rep.': '中非',\n",
    "    'Canada': '加拿大',\n",
    "    'Switzerland': '瑞士',\n",
    "    'Chile': '智利',\n",
    "    'China': '中国',\n",
    "    'Ivory Coast': '象牙海岸',\n",
    "    'Cameroon': '喀麦隆',\n",
    "    'Dem. Rep. Congo': '刚果民主共和国',\n",
    "    'Congo': '刚果',\n",
    "    'Colombia': '哥伦比亚',\n",
    "    'Costa Rica': '哥斯达黎加',\n",
    "    'Cuba': '古巴',\n",
    "    'N. Cyprus': '北塞浦路斯',\n",
    "    'Cyprus': '塞浦路斯',\n",
    "    'Czech Rep.': '捷克',\n",
    "    'Germany': '德国',\n",
    "    'Djibouti': '吉布提',\n",
    "    'Denmark': '丹麦',\n",
    "    'Algeria': '阿尔及利亚',\n",
    "    'Ecuador': '厄瓜多尔',\n",
    "    'Egypt': '埃及',\n",
    "    'Eritrea': '厄立特里亚',\n",
    "    'Spain': '西班牙',\n",
    "    'Estonia': '爱沙尼亚',\n",
    "    'Ethiopia': '埃塞俄比亚',\n",
    "    'Finland': '芬兰',\n",
    "    'Fiji': '斐',\n",
    "    'Falkland Islands': '福克兰群岛',\n",
    "    'France': '法国',\n",
    "    'Gabon': '加蓬',\n",
    "    'United Kingdom': '英国',\n",
    "    'Georgia': '格鲁吉亚',\n",
    "    'Ghana': '加纳',\n",
    "    'Guinea': '几内亚',\n",
    "    'Gambia': '冈比亚',\n",
    "    'Guinea Bissau': '几内亚比绍',\n",
    "    'Eq. Guinea': '赤道几内亚',\n",
    "    'Greece': '希腊',\n",
    "    'Greenland': '格陵兰',\n",
    "    'Guatemala': '危地马拉',\n",
    "    'French Guiana': '法属圭亚那',\n",
    "    'Guyana': '圭亚那',\n",
    "    'Honduras': '洪都拉斯',\n",
    "    'Croatia': '克罗地亚',\n",
    "    'Haiti': '海地',\n",
    "    'Hungary': '匈牙利',\n",
    "    'Indonesia': '印度尼西亚',\n",
    "    'India': '印度',\n",
    "    'Ireland': '爱尔兰',\n",
    "    'Iran': '伊朗',\n",
    "    'Iraq': '伊拉克',\n",
    "    'Iceland': '冰岛',\n",
    "    'Israel': '以色列',\n",
    "    'Italy': '意大利',\n",
    "    'Jamaica': '牙买加',\n",
    "    'Jordan': '约旦',\n",
    "    'Japan': '日本',\n",
    "    'Kazakhstan': '哈萨克斯坦',\n",
    "    'Kenya': '肯尼亚',\n",
    "    'Kyrgyzstan': '吉尔吉斯斯坦',\n",
    "    'Cambodia': '柬埔寨',\n",
    "    'Korea': '韩国',\n",
    "    'Kosovo': '科索沃',\n",
    "    'Kuwait': '科威特',\n",
    "    'Lao PDR': '老挝',\n",
    "    'Lebanon': '黎巴嫩',\n",
    "    'Liberia': '利比里亚',\n",
    "    'Libya': '利比亚',\n",
    "    'Sri Lanka': '斯里兰卡',\n",
    "    'Lesotho': '莱索托',\n",
    "    'Lithuania': '立陶宛',\n",
    "    'Luxembourg': '卢森堡',\n",
    "    'Latvia': '拉脱维亚',\n",
    "    'Morocco': '摩洛哥',\n",
    "    'Moldova': '摩尔多瓦',\n",
    "    'Madagascar': '马达加斯加',\n",
    "    'Mexico': '墨西哥',\n",
    "    'Macedonia': '马其顿',\n",
    "    'Mali': '马里',\n",
    "    'Myanmar': '缅甸',\n",
    "    'Montenegro': '黑山',\n",
    "    'Mongolia': '蒙古',\n",
    "    'Mozambique': '莫桑比克',\n",
    "    'Mauritania': '毛里塔尼亚',\n",
    "    'Malawi': '马拉维',\n",
    "    'Malaysia': '马来西亚',\n",
    "    'Namibia': '纳米比亚',\n",
    "    'New Caledonia': '新喀里多尼亚',\n",
    "    'Niger': '尼日尔',\n",
    "    'Nigeria': '尼日利亚',\n",
    "    'Nicaragua': '尼加拉瓜',\n",
    "    'Netherlands': '荷兰',\n",
    "    'Norway': '挪威',\n",
    "    'Nepal': '尼泊尔',\n",
    "    'New Zealand': '新西兰',\n",
    "    'Oman': '阿曼',\n",
    "    'Pakistan': '巴基斯坦',\n",
    "    'Panama': '巴拿马',\n",
    "    'Peru': '秘鲁',\n",
    "    'Philippines': '菲律宾',\n",
    "    'Papua New Guinea': '巴布亚新几内亚',\n",
    "    'Poland': '波兰',\n",
    "    'Puerto Rico': '波多黎各',\n",
    "    'Dem. Rep. Korea': '朝鲜',\n",
    "    'Portugal': '葡萄牙',\n",
    "    'Paraguay': '巴拉圭',\n",
    "    'Qatar': '卡塔尔',\n",
    "    'Romania': '罗马尼亚',\n",
    "    'Russia': '俄罗斯',\n",
    "    'Russia': '俄罗斯奥委会',\n",
    "    'Rwanda': '卢旺达',\n",
    "    'W. Sahara': '西撒哈拉',\n",
    "    'Saudi Arabia': '沙特阿拉伯',\n",
    "    'Sudan': '苏丹',\n",
    "    'S. Sudan': '南苏丹',\n",
    "    'Senegal': '塞内加尔',\n",
    "    'Solomon Is.': '所罗门群岛',\n",
    "    'Sierra Leone': '塞拉利昂',\n",
    "    'El Salvador': '萨尔瓦多',\n",
    "    'Somaliland': '索马里兰',\n",
    "    'Somalia': '索马里',\n",
    "    'Serbia': '塞尔维亚',\n",
    "    'Suriname': '苏里南',\n",
    "    'Slovakia': '斯洛伐克',\n",
    "    'Slovenia': '斯洛文尼亚',\n",
    "    'Sweden': '瑞典',\n",
    "    'Swaziland': '斯威士兰',\n",
    "    'Syria': '叙利亚',\n",
    "    'Chad': '乍得',\n",
    "    'Togo': '多哥',\n",
    "    'Thailand': '泰国',\n",
    "    'Tajikistan': '塔吉克斯坦',\n",
    "    'Turkmenistan': '土库曼斯坦',\n",
    "    'East Timor': '东帝汶',\n",
    "    'Trinidad and Tobago': '特里尼达和多巴哥',\n",
    "    'Tunisia': '突尼斯',\n",
    "    'Turkey': '土耳其',\n",
    "    'Tanzania': '坦桑尼亚',\n",
    "    'Uganda': '乌干达',\n",
    "    'Ukraine': '乌克兰',\n",
    "    'Uruguay': '乌拉圭',\n",
    "    'United States': '美国',\n",
    "    'Uzbekistan': '乌兹别克斯坦',\n",
    "    'Venezuela': '委内瑞拉',\n",
    "    'Vietnam': '越南',\n",
    "    'Vanuatu': '瓦努阿图',\n",
    "    'West Bank': '西岸',\n",
    "    'Yemen': '也门',\n",
    "    'South Africa': '南非',\n",
    "    'Zambia': '赞比亚',\n",
    "    'Zimbabwe': '津巴布韦',\n",
    "    'Comoros': '科摩罗'}\n"
   ]
  },
  {
   "cell_type": "code",
   "execution_count": 29,
   "metadata": {
    "ExecuteTime": {
     "end_time": "2022-05-07T04:45:22.673700Z",
     "start_time": "2022-05-07T04:45:22.652328Z"
    }
   },
   "outputs": [],
   "source": [
    "c = (\n",
    "    Map(init_opts=opts.InitOpts(width=\"1200px\", height=\"678px\"))\n",
    "    .add(\"冬奥会奖牌总数\",\n",
    "         [list(z) for z in zip(df['国家'], df['总数'])], \n",
    "         \"world\", \n",
    "         is_map_symbol_show=False, \n",
    "         name_map=name_map)\n",
    "    \n",
    "    .set_global_opts(\n",
    "        title_opts=opts.TitleOpts(title=\"2022_Olympics_Medals-BQF\"),\n",
    "        visualmap_opts=opts.VisualMapOpts(max_=40, is_piecewise=True),\n",
    "    )\n",
    "    .set_series_opts(label_opts=opts.LabelOpts(is_show=False))\n",
    "    .render(\"2022_Olympics_Medals.html\")\n",
    ")"
   ]
  },
  {
   "cell_type": "markdown",
   "source": [
    "### 2022冬奥会奖牌分布 层级图treemap"
   ],
   "metadata": {
    "collapsed": false,
    "pycharm": {
     "name": "#%% md\n"
    }
   }
  },
  {
   "cell_type": "code",
   "execution_count": 17,
   "outputs": [],
   "source": [
    "df_t = df1.groupby(['国家','大项项目']).agg({'小项项目':'count'}).reset_index()\n",
    "df_t.columns = ['国家','大项项目','数量']"
   ],
   "metadata": {
    "collapsed": false,
    "pycharm": {
     "name": "#%%\n"
    }
   }
  },
  {
   "cell_type": "code",
   "execution_count": 18,
   "outputs": [
    {
     "name": "stderr",
     "output_type": "stream",
     "text": [
      "<ipython-input-18-377411500d70>:1: RuntimeWarning: coroutine 'get_json_data' was never awaited\n",
      "  data = []\n",
      "RuntimeWarning: Enable tracemalloc to get the object allocation traceback\n"
     ]
    }
   ],
   "source": [
    "data = []\n",
    "item = []\n",
    "for idx, row in df_t.iterrows():\n",
    "    if row['国家'] in item:\n",
    "        data[-1]['children'].append(dict(name=row['大项项目'], value=row['数量']))\n",
    "    else:\n",
    "        data.append(dict(name=row['国家'], children=[dict(name=row['大项项目'], value=row['数量'])]))\n",
    "    item.append(row['国家'])"
   ],
   "metadata": {
    "collapsed": false,
    "pycharm": {
     "name": "#%%\n"
    }
   }
  },
  {
   "cell_type": "code",
   "execution_count": 30,
   "outputs": [
    {
     "data": {
      "text/plain": "'C:\\\\Users\\\\鲍鱼展翅\\\\Desktop\\\\language bank\\\\数据可视化\\\\py_Visualize\\\\地理数据可视化\\\\2022_Olympics_Medals-treemap(pre country).html'"
     },
     "execution_count": 30,
     "metadata": {},
     "output_type": "execute_result"
    }
   ],
   "source": [
    "tree = TreeMap(\n",
    "    init_opts=opts.InitOpts(theme='light',width='1000px',height='600px',))\n",
    "tree.add(\n",
    "    \"奖牌数量\",data,leaf_depth=1,roam=False,label_opts=opts.LabelOpts(position=\"inside\", formatter='{b}: {c}枚'),\n",
    "    levels=[\n",
    "            opts.TreeMapLevelsOpts(\n",
    "                treemap_itemstyle_opts=opts.TreeMapItemStyleOpts(\n",
    "                    border_color=\"white\", border_width=4, gap_width=4\n",
    "                )\n",
    "            ),\n",
    "            opts.TreeMapLevelsOpts(\n",
    "                color_saturation=[0.8, 0.5],\n",
    "                treemap_itemstyle_opts=opts.TreeMapItemStyleOpts(\n",
    "                    border_color=\"white\",border_color_saturation=0.7, gap_width=4, border_width=8\n",
    "                ),\n",
    "            )\n",
    "        ],\n",
    "    )\n",
    "tree.set_global_opts(title_opts=opts.TitleOpts(\n",
    "        title=\"各国家不同运动项目的奖牌情况-BQF\",pos_left='center',\n",
    "        title_textstyle_opts=opts.TextStyleOpts(font_size=20),pos_top='1%'),\n",
    "    legend_opts=opts.LegendOpts(\n",
    "        is_show=False\n",
    "        )\n",
    ")\n",
    "tree.render('2022_Olympics_Medals-treemap(pre country).html')"
   ],
   "metadata": {
    "collapsed": false,
    "pycharm": {
     "name": "#%%\n"
    }
   }
  }
 ],
 "metadata": {
  "kernelspec": {
   "display_name": "PyCharm (Desktop)",
   "language": "python",
   "name": "pycharm-433fd628"
  },
  "language_info": {
   "codemirror_mode": {
    "name": "ipython",
    "version": 3
   },
   "file_extension": ".py",
   "mimetype": "text/x-python",
   "name": "python",
   "nbconvert_exporter": "python",
   "pygments_lexer": "ipython3",
   "version": "3.8.8"
  }
 },
 "nbformat": 4,
 "nbformat_minor": 1
}