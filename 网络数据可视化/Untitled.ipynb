{
 "cells": [
  {
   "cell_type": "code",
   "execution_count": 1,
   "id": "7bbbfeb5",
   "metadata": {
    "ExecuteTime": {
     "end_time": "2022-05-05T08:15:48.470152Z",
     "start_time": "2022-05-05T08:15:47.628873Z"
    }
   },
   "outputs": [],
   "source": [
    "import numpy as np\n",
    "import pandas as pd\n",
    "import matplotlib.pyplot as plt\n",
    "import json\n",
    "from pyecharts import options as opts\n",
    "from pyecharts.charts import Graph"
   ]
  },
  {
   "cell_type": "markdown",
   "id": "4da74f52",
   "metadata": {
    "pycharm": {
     "name": "#%% md\n"
    }
   },
   "source": [
    "### 华语电影导演关系图"
   ]
  },
  {
   "cell_type": "code",
   "execution_count": 2,
   "id": "93d40811",
   "metadata": {
    "ExecuteTime": {
     "end_time": "2022-05-05T08:15:50.611686Z",
     "start_time": "2022-05-05T08:15:48.560171Z"
    }
   },
   "outputs": [],
   "source": [
    "# 数据清洗--过滤出 中国 电影\n",
    "df = pd.read_excel(r'./TOP250.xlsx')\n",
    "df = df[df['国家/地区'] == \"中国\"]\n",
    "df[\"主演\"] = df[\"主演\"].apply(lambda x: x.split(' / '))\n",
    "df[\"导演\"] = df[\"导演\"].apply(lambda x: x.split(' / '))\n"
   ]
  },
  {
   "cell_type": "code",
   "execution_count": 4,
   "id": "6b669ac9",
   "metadata": {
    "ExecuteTime": {
     "end_time": "2022-05-05T08:15:50.674733Z",
     "start_time": "2022-05-05T08:15:50.613684Z"
    }
   },
   "outputs": [],
   "source": [
    "node = list(set([i for j in list(df[\"导演\"]) for i in j ]))\n",
    "actor = []\n",
    "actor_temp = []\n",
    "nodes = []\n",
    "for i in node:\n",
    "    for j in range(df.shape[0]):\n",
    "        if i in list(df[\"导演\"])[j]:\n",
    "            actor_temp.append({\"导演\": i,\"主演\": list(df[\"主演\"])[j]})\n",
    "df_actor_temp = pd.DataFrame(actor_temp)\n",
    "\n",
    "for i in range(len(node)):\n",
    "    actor.append({\"导演\": node[i],\n",
    "                  \"主演\": list(set([m for n in list(df_actor_temp[df_actor_temp[\"导演\"] == node[i]][\"主演\"]) for m in n]))})\n",
    "    nodes.append({\"name\": node[i], \"category\": node[i],\n",
    "                  \"value\": len(set([m for n in list(df_actor_temp[df_actor_temp[\"导演\"] == node[i]][\"主演\"]) for m in n])),\n",
    "                  \"symbolSize\": len(set([m for n in list(df_actor_temp[df_actor_temp[\"导演\"] == node[i]][\"主演\"]) for m in n]))})\n"
   ]
  },
  {
   "cell_type": "code",
   "execution_count": 5,
   "id": "4c85f5c4",
   "metadata": {
    "ExecuteTime": {
     "end_time": "2022-05-05T08:15:50.706680Z",
     "start_time": "2022-05-05T08:15:50.676728Z"
    },
    "scrolled": true
   },
   "outputs": [
    {
     "data": {
      "text/plain": "[{'name': '黄信尧', 'category': '黄信尧', 'value': 17, 'symbolSize': 17},\n {'name': '王树忱', 'category': '王树忱', 'value': 28, 'symbolSize': 28},\n {'name': '罗启锐', 'category': '罗启锐', 'value': 20, 'symbolSize': 20},\n {'name': '宁浩', 'category': '宁浩', 'value': 8, 'symbolSize': 8},\n {'name': '刘露', 'category': '刘露', 'value': 12, 'symbolSize': 12},\n {'name': '陈可辛', 'category': '陈可辛', 'value': 8, 'symbolSize': 8},\n {'name': '郭柯', 'category': '郭柯', 'value': 1, 'symbolSize': 1},\n {'name': '刘伟强', 'category': '刘伟强', 'value': 18, 'symbolSize': 18},\n {'name': '姜文', 'category': '姜文', 'value': 67, 'symbolSize': 67},\n {'name': '麦兆辉', 'category': '麦兆辉', 'value': 18, 'symbolSize': 18},\n {'name': '杨德昌', 'category': '杨德昌', 'value': 29, 'symbolSize': 29},\n {'name': '陆川', 'category': '陆川', 'value': 6, 'symbolSize': 6},\n {'name': '周星驰', 'category': '周星驰', 'value': 29, 'symbolSize': 29},\n {'name': '刘镇伟', 'category': '刘镇伟', 'value': 22, 'symbolSize': 22},\n {'name': '陈凯歌', 'category': '陈凯歌', 'value': 20, 'symbolSize': 20},\n {'name': '程小东', 'category': '程小东', 'value': 8, 'symbolSize': 8},\n {'name': '万籁鸣', 'category': '万籁鸣', 'value': 7, 'symbolSize': 7},\n {'name': '钱运达', 'category': '钱运达', 'value': 26, 'symbolSize': 26},\n {'name': '王晶', 'category': '王晶', 'value': 13, 'symbolSize': 13},\n {'name': '李惠民', 'category': '李惠民', 'value': 14, 'symbolSize': 14},\n {'name': '周申', 'category': '周申', 'value': 12, 'symbolSize': 12},\n {'name': '张艺谋', 'category': '张艺谋', 'value': 15, 'symbolSize': 15},\n {'name': '文牧野', 'category': '文牧野', 'value': 19, 'symbolSize': 19},\n {'name': '李力持', 'category': '李力持', 'value': 27, 'symbolSize': 27},\n {'name': '徐景达', 'category': '徐景达', 'value': 6, 'symbolSize': 6},\n {'name': '李安', 'category': '李安', 'value': 43, 'symbolSize': 43},\n {'name': '唐澄', 'category': '唐澄', 'value': 7, 'symbolSize': 7},\n {'name': '王家卫', 'category': '王家卫', 'value': 21, 'symbolSize': 21},\n {'name': '严定宪', 'category': '严定宪', 'value': 6, 'symbolSize': 6},\n {'name': '徐克', 'category': '徐克', 'value': 7, 'symbolSize': 7},\n {'name': '忻钰坤', 'category': '忻钰坤', 'value': 18, 'symbolSize': 18},\n {'name': '吴宇森', 'category': '吴宇森', 'value': 16, 'symbolSize': 16}]"
     },
     "execution_count": 5,
     "metadata": {},
     "output_type": "execute_result"
    }
   ],
   "source": [
    "nodes"
   ]
  },
  {
   "cell_type": "code",
   "execution_count": 6,
   "id": "f48b6b32",
   "metadata": {
    "ExecuteTime": {
     "end_time": "2022-05-05T08:15:51.038971Z",
     "start_time": "2022-05-05T08:15:50.708642Z"
    }
   },
   "outputs": [],
   "source": [
    "links = []\n",
    "category = []\n",
    "df_actor = pd.DataFrame(actor)\n",
    "for i in range(len(node)):\n",
    "    category.append({\"name\": node[i]})\n",
    "    for j in range(i+1,len(node)):\n",
    "        ac = list(set(df_actor[df_actor[\"导演\"] == node[i]][\"主演\"].values[0]) & set(df_actor[df_actor[\"导演\"] == node[j]][\"主演\"].values[0]))\n",
    "        if ac != []:\n",
    "            links.append({\"source\": node[i], \"target\": node[j], \"linewidth\":len(ac) })\n",
    "            "
   ]
  },
  {
   "cell_type": "code",
   "execution_count": 7,
   "outputs": [
    {
     "data": {
      "text/plain": "[{'source': '黄信尧', 'target': '杨德昌', 'linewidth': 1},\n {'source': '王树忱', 'target': '万籁鸣', 'linewidth': 6},\n {'source': '王树忱', 'target': '钱运达', 'linewidth': 26},\n {'source': '王树忱', 'target': '徐景达', 'linewidth': 6},\n {'source': '王树忱', 'target': '唐澄', 'linewidth': 6},\n {'source': '王树忱', 'target': '严定宪', 'linewidth': 6},\n {'source': '罗启锐', 'target': '陈可辛', 'linewidth': 1},\n {'source': '罗启锐', 'target': '李力持', 'linewidth': 1},\n {'source': '宁浩', 'target': '张艺谋', 'linewidth': 1},\n {'source': '宁浩', 'target': '文牧野', 'linewidth': 1},\n {'source': '刘露', 'target': '周申', 'linewidth': 12},\n {'source': '陈可辛', 'target': '刘伟强', 'linewidth': 1},\n {'source': '陈可辛', 'target': '麦兆辉', 'linewidth': 1},\n {'source': '陈可辛', 'target': '刘镇伟', 'linewidth': 1},\n {'source': '陈可辛', 'target': '李惠民', 'linewidth': 1},\n {'source': '陈可辛', 'target': '王家卫', 'linewidth': 1},\n {'source': '陈可辛', 'target': '徐克', 'linewidth': 1},\n {'source': '刘伟强', 'target': '姜文', 'linewidth': 2},\n {'source': '刘伟强', 'target': '麦兆辉', 'linewidth': 18},\n {'source': '刘伟强', 'target': '刘镇伟', 'linewidth': 2},\n {'source': '刘伟强', 'target': '李力持', 'linewidth': 1},\n {'source': '刘伟强', 'target': '李安', 'linewidth': 1},\n {'source': '刘伟强', 'target': '王家卫', 'linewidth': 4},\n {'source': '姜文', 'target': '麦兆辉', 'linewidth': 2},\n {'source': '姜文', 'target': '周星驰', 'linewidth': 1},\n {'source': '姜文', 'target': '刘镇伟', 'linewidth': 1},\n {'source': '姜文', 'target': '陈凯歌', 'linewidth': 2},\n {'source': '姜文', 'target': '张艺谋', 'linewidth': 2},\n {'source': '姜文', 'target': '王家卫', 'linewidth': 1},\n {'source': '姜文', 'target': '吴宇森', 'linewidth': 1},\n {'source': '麦兆辉', 'target': '刘镇伟', 'linewidth': 2},\n {'source': '麦兆辉', 'target': '李力持', 'linewidth': 1},\n {'source': '麦兆辉', 'target': '李安', 'linewidth': 1},\n {'source': '麦兆辉', 'target': '王家卫', 'linewidth': 4},\n {'source': '杨德昌', 'target': '李安', 'linewidth': 1},\n {'source': '杨德昌', 'target': '王家卫', 'linewidth': 1},\n {'source': '周星驰', 'target': '刘镇伟', 'linewidth': 3},\n {'source': '周星驰', 'target': '王晶', 'linewidth': 2},\n {'source': '周星驰', 'target': '李惠民', 'linewidth': 1},\n {'source': '周星驰', 'target': '李力持', 'linewidth': 10},\n {'source': '刘镇伟', 'target': '陈凯歌', 'linewidth': 1},\n {'source': '刘镇伟', 'target': '程小东', 'linewidth': 2},\n {'source': '刘镇伟', 'target': '王晶', 'linewidth': 3},\n {'source': '刘镇伟', 'target': '李惠民', 'linewidth': 3},\n {'source': '刘镇伟', 'target': '李力持', 'linewidth': 5},\n {'source': '刘镇伟', 'target': '李安', 'linewidth': 1},\n {'source': '刘镇伟', 'target': '王家卫', 'linewidth': 7},\n {'source': '刘镇伟', 'target': '徐克', 'linewidth': 2},\n {'source': '刘镇伟', 'target': '吴宇森', 'linewidth': 1},\n {'source': '陈凯歌', 'target': '程小东', 'linewidth': 1},\n {'source': '陈凯歌', 'target': '张艺谋', 'linewidth': 2},\n {'source': '陈凯歌', 'target': '李力持', 'linewidth': 1},\n {'source': '陈凯歌', 'target': '王家卫', 'linewidth': 1},\n {'source': '陈凯歌', 'target': '吴宇森', 'linewidth': 1},\n {'source': '程小东', 'target': '王家卫', 'linewidth': 1},\n {'source': '程小东', 'target': '徐克', 'linewidth': 1},\n {'source': '程小东', 'target': '吴宇森', 'linewidth': 1},\n {'source': '万籁鸣', 'target': '钱运达', 'linewidth': 5},\n {'source': '万籁鸣', 'target': '徐景达', 'linewidth': 5},\n {'source': '万籁鸣', 'target': '唐澄', 'linewidth': 7},\n {'source': '万籁鸣', 'target': '严定宪', 'linewidth': 5},\n {'source': '钱运达', 'target': '徐景达', 'linewidth': 4},\n {'source': '钱运达', 'target': '唐澄', 'linewidth': 5},\n {'source': '钱运达', 'target': '严定宪', 'linewidth': 4},\n {'source': '王晶', 'target': '李惠民', 'linewidth': 3},\n {'source': '王晶', 'target': '李力持', 'linewidth': 5},\n {'source': '王晶', 'target': '王家卫', 'linewidth': 1},\n {'source': '王晶', 'target': '徐克', 'linewidth': 1},\n {'source': '李惠民', 'target': '王家卫', 'linewidth': 3},\n {'source': '李惠民', 'target': '徐克', 'linewidth': 2},\n {'source': '张艺谋', 'target': '李力持', 'linewidth': 1},\n {'source': '徐景达', 'target': '唐澄', 'linewidth': 5},\n {'source': '徐景达', 'target': '严定宪', 'linewidth': 6},\n {'source': '李安', 'target': '王家卫', 'linewidth': 1},\n {'source': '唐澄', 'target': '严定宪', 'linewidth': 5},\n {'source': '王家卫', 'target': '徐克', 'linewidth': 1},\n {'source': '王家卫', 'target': '吴宇森', 'linewidth': 1},\n {'source': '徐克', 'target': '吴宇森', 'linewidth': 1}]"
     },
     "execution_count": 7,
     "metadata": {},
     "output_type": "execute_result"
    }
   ],
   "source": [
    "links"
   ],
   "metadata": {
    "collapsed": false,
    "pycharm": {
     "name": "#%%\n"
    }
   }
  },
  {
   "cell_type": "code",
   "execution_count": 8,
   "outputs": [
    {
     "data": {
      "text/plain": "[{'name': '黄信尧'},\n {'name': '王树忱'},\n {'name': '罗启锐'},\n {'name': '宁浩'},\n {'name': '刘露'},\n {'name': '陈可辛'},\n {'name': '郭柯'},\n {'name': '刘伟强'},\n {'name': '姜文'},\n {'name': '麦兆辉'},\n {'name': '杨德昌'},\n {'name': '陆川'},\n {'name': '周星驰'},\n {'name': '刘镇伟'},\n {'name': '陈凯歌'},\n {'name': '程小东'},\n {'name': '万籁鸣'},\n {'name': '钱运达'},\n {'name': '王晶'},\n {'name': '李惠民'},\n {'name': '周申'},\n {'name': '张艺谋'},\n {'name': '文牧野'},\n {'name': '李力持'},\n {'name': '徐景达'},\n {'name': '李安'},\n {'name': '唐澄'},\n {'name': '王家卫'},\n {'name': '严定宪'},\n {'name': '徐克'},\n {'name': '忻钰坤'},\n {'name': '吴宇森'}]"
     },
     "execution_count": 8,
     "metadata": {},
     "output_type": "execute_result"
    }
   ],
   "source": [
    "category"
   ],
   "metadata": {
    "collapsed": false,
    "pycharm": {
     "name": "#%%\n"
    }
   }
  },
  {
   "cell_type": "code",
   "execution_count": 6,
   "id": "0692791c",
   "metadata": {
    "ExecuteTime": {
     "end_time": "2022-05-05T08:15:51.085982Z",
     "start_time": "2022-05-05T08:15:51.077005Z"
    }
   },
   "outputs": [],
   "source": [
    "with open(\"director_china.json\", \"w\", encoding='utf-8') as f:\n",
    "    json.dump([nodes, links, category], f, indent=2, ensure_ascii=False) # 写为多行"
   ]
  },
  {
   "cell_type": "code",
   "execution_count": 7,
   "id": "d899fc97",
   "metadata": {
    "ExecuteTime": {
     "end_time": "2022-05-05T08:15:53.380143Z",
     "start_time": "2022-05-05T08:15:53.373163Z"
    }
   },
   "outputs": [],
   "source": [
    "with open(\"director_china.json\", \"r\", encoding=\"utf-8\") as f:\n",
    "    j = json.load(f)\n",
    "    nodes, links, category = j  #, cont, mid, userl = j"
   ]
  },
  {
   "cell_type": "code",
   "execution_count": 8,
   "id": "74073c83",
   "metadata": {
    "ExecuteTime": {
     "end_time": "2022-05-05T08:15:58.515200Z",
     "start_time": "2022-05-05T08:15:58.474967Z"
    }
   },
   "outputs": [],
   "source": [
    "c = (\n",
    "    Graph(init_opts=opts.InitOpts(width=\"1200px\", height=\"900px\"))\n",
    "    .add(\"\",\n",
    "        nodes,\n",
    "        links,\n",
    "        category,\n",
    "        edge_length=list(map(lambda x: x['linewidth'], links)),\n",
    "        repulsion=1000,\n",
    "        linestyle_opts=opts.LineStyleOpts(curve=0.5),\n",
    "        label_opts=opts.LabelOpts(is_show=True),\n",
    "    )\n",
    "    .set_global_opts(\n",
    "        legend_opts=opts.LegendOpts(is_show=False),\n",
    "        title_opts=opts.TitleOpts(title=\"Graph-华语电影导演关系图——BQF\"),\n",
    "    )\n",
    "    .render(\"graph_movie_chinadirector.html\")\n",
    ")\n"
   ]
  },
  {
   "cell_type": "markdown",
   "id": "830508ae",
   "metadata": {
    "pycharm": {
     "name": "#%% md\n"
    }
   },
   "source": [
    "### 世界电影导演关系图"
   ]
  },
  {
   "cell_type": "code",
   "execution_count": 12,
   "id": "e2200887",
   "metadata": {
    "ExecuteTime": {
     "end_time": "2022-05-05T08:22:02.167216Z",
     "start_time": "2022-05-05T08:22:02.075439Z"
    },
    "pycharm": {
     "name": "#%%\n"
    }
   },
   "outputs": [],
   "source": [
    "# 数据清洗\n",
    "df1 = pd.read_excel(r'./TOP250.xlsx')\n",
    "df1[\"主演\"] = df1[\"主演\"].apply(lambda x: x.split(' / '))\n",
    "df1[\"导演\"] = df1[\"导演\"].apply(lambda x: list(x.split(' / ')))\n",
    "node = list(set([i for j in list(df1[\"导演\"]) for i in j ]))"
   ]
  },
  {
   "cell_type": "code",
   "execution_count": 44,
   "id": "dadba7cd",
   "metadata": {
    "ExecuteTime": {
     "end_time": "2022-05-05T08:39:28.291449Z",
     "start_time": "2022-05-05T08:39:28.061065Z"
    }
   },
   "outputs": [],
   "source": [
    "dtr = []\n",
    "for i in node:\n",
    "    for j in range(df1.shape[0]):\n",
    "        if i in df1[\"导演\"][j]:\n",
    "            dtr.append({\"director\": i, \"country\": df1[\"国家/地区\"][j]})\n",
    "dtr = (pd.DataFrame(dtr).drop_duplicates()).reset_index(drop=True)"
   ]
  },
  {
   "cell_type": "code",
   "execution_count": 20,
   "id": "b3c5e8fd",
   "metadata": {
    "ExecuteTime": {
     "end_time": "2022-05-05T08:27:12.550520Z",
     "start_time": "2022-05-05T08:27:11.463752Z"
    },
    "pycharm": {
     "name": "#%%\n"
    }
   },
   "outputs": [],
   "source": [
    "actor = []\n",
    "actor_temp = []\n",
    "nodes = []\n",
    "for i in node:\n",
    "    for j in range(df1.shape[0]):\n",
    "        if i in list(df1[\"导演\"])[j]:\n",
    "            actor_temp.append({\"导演\": i,\"主演\": list(df1[\"主演\"])[j]})\n",
    "df_actor_temp = pd.DataFrame(actor_temp)\n",
    "\n",
    "for i in range(len(node)):\n",
    "    actor.append({\"导演\": node[i],\"主演\": list(set([m for n in list(df_actor_temp[df_actor_temp[\"导演\"] == node[i]][\"主演\"]) for m in n]))})\n",
    "    nodes.append({\"name\": node[i], \"category\": list(set(dtr[dtr['director'] == node[i]][\"country\"]))[0], \"value\": len(set([m for n in list(df_actor_temp[df_actor_temp[\"导演\"] == node[i]][\"主演\"]) for m in n])), \"symbolSize\": len(set([m for n in list(df_actor_temp[df_actor_temp[\"导演\"] == node[i]][\"主演\"]) for m in n]))})\n",
    "df_actor_world = pd.DataFrame(actor)"
   ]
  },
  {
   "cell_type": "code",
   "execution_count": 21,
   "id": "8570f417",
   "metadata": {
    "ExecuteTime": {
     "end_time": "2022-05-05T08:27:14.495281Z",
     "start_time": "2022-05-05T08:27:14.460051Z"
    },
    "pycharm": {
     "name": "#%%\n"
    }
   },
   "outputs": [
    {
     "data": {
      "text/plain": [
       "[{'name': '是枝裕和', 'category': '日本', 'value': 49, 'symbolSize': 49},\n",
       " {'name': '彼得·威尔', 'category': '美国', 'value': 31, 'symbolSize': 31},\n",
       " {'name': '汉内斯·赫尔姆', 'category': '瑞典', 'value': 11, 'symbolSize': 11},\n",
       " {'name': '朱塞佩·托纳多雷', 'category': '意大利', 'value': 56, 'symbolSize': 56},\n",
       " {'name': '克里斯·哥伦布', 'category': '美国', 'value': 21, 'symbolSize': 21},\n",
       " {'name': '史蒂文·斯皮尔伯格', 'category': '美国', 'value': 155, 'symbolSize': 155},\n",
       " {'name': '罗伯托·贝尼尼', 'category': '意大利', 'value': 27, 'symbolSize': 27},\n",
       " {'name': '克里斯托弗·史密斯', 'category': '英国', 'value': 7, 'symbolSize': 7},\n",
       " {'name': '陈凯歌', 'category': '中国', 'value': 20, 'symbolSize': 20},\n",
       " {'name': '亚当·艾略特', 'category': '澳大利亚', 'value': 13, 'symbolSize': 13},\n",
       " {'name': '罗启锐', 'category': '中国', 'value': 20, 'symbolSize': 20},\n",
       " {'name': '涅提·蒂瓦里', 'category': '印度', 'value': 9, 'symbolSize': 9},\n",
       " {'name': '茂文·勒鲁瓦', 'category': '美国', 'value': 59, 'symbolSize': 59},\n",
       " {'name': '姜文', 'category': '中国', 'value': 67, 'symbolSize': 67},\n",
       " {'name': '埃里克·布雷斯', 'category': '美国', 'value': 16, 'symbolSize': 16},\n",
       " {'name': '米洛斯·福尔曼', 'category': '美国', 'value': 23, 'symbolSize': 23},\n",
       " {'name': '普特鹏·普罗萨卡·那·萨克那卡林', 'category': '泰国', 'value': 8, 'symbolSize': 8},\n",
       " {'name': '程小东', 'category': '中国', 'value': 8, 'symbolSize': 8},\n",
       " {'name': '史蒂芬·戴德利', 'category': '美国', 'value': 15, 'symbolSize': 15},\n",
       " {'name': '王树忱', 'category': '中国', 'value': 28, 'symbolSize': 28},\n",
       " {'name': '李惠民', 'category': '中国', 'value': 14, 'symbolSize': 14},\n",
       " {'name': '李力持', 'category': '中国', 'value': 27, 'symbolSize': 27},\n",
       " {'name': '朗·霍华德', 'category': '美国', 'value': 46, 'symbolSize': 46},\n",
       " {'name': '李濬益', 'category': '韩国', 'value': 8, 'symbolSize': 8},\n",
       " {'name': '詹姆斯·曼高德', 'category': '美国', 'value': 21, 'symbolSize': 21},\n",
       " {'name': '近藤喜文', 'category': '日本', 'value': 8, 'symbolSize': 8},\n",
       " {'name': '徐景达', 'category': '中国', 'value': 6, 'symbolSize': 6},\n",
       " {'name': '周星驰', 'category': '中国', 'value': 29, 'symbolSize': 29},\n",
       " {'name': '王晶', 'category': '中国', 'value': 13, 'symbolSize': 13},\n",
       " {'name': '娜丁·拉巴基', 'category': '黎巴嫩 ', 'value': 10, 'symbolSize': 10},\n",
       " {'name': '彼得·杰克逊', 'category': '新西兰 ', 'value': 92, 'symbolSize': 92},\n",
       " {'name': '维克多·弗莱明', 'category': '美国', 'value': 32, 'symbolSize': 32},\n",
       " {'name': '托马斯·温特伯格', 'category': '丹麦 ', 'value': 8, 'symbolSize': 8},\n",
       " {'name': '格斯·范·桑特', 'category': '美国', 'value': 16, 'symbolSize': 16},\n",
       " {'name': '克里斯·桑德斯', 'category': '美国', 'value': 21, 'symbolSize': 21},\n",
       " {'name': '丹尼·博伊尔', 'category': '英国', 'value': 35, 'symbolSize': 35},\n",
       " {'name': '阿尔弗雷德·希区柯克', 'category': '美国', 'value': 31, 'symbolSize': 31},\n",
       " {'name': '邓肯·琼斯', 'category': '美国', 'value': 9, 'symbolSize': 9},\n",
       " {'name': '徐克', 'category': '中国', 'value': 7, 'symbolSize': 7},\n",
       " {'name': '黄东赫', 'category': '韩国', 'value': 16, 'symbolSize': 16},\n",
       " {'name': '刘伟强', 'category': '中国', 'value': 18, 'symbolSize': 18},\n",
       " {'name': '威廉·惠勒', 'category': '美国', 'value': 11, 'symbolSize': 11},\n",
       " {'name': '伏原健之', 'category': '日本', 'value': 1, 'symbolSize': 1},\n",
       " {'name': ' 雅克·克鲁奥德', 'category': '法国', 'value': 8, 'symbolSize': 8},\n",
       " {'name': '黑泽明', 'category': '日本', 'value': 49, 'symbolSize': 49},\n",
       " {'name': '周申', 'category': '中国', 'value': 12, 'symbolSize': 12},\n",
       " {'name': '奥利维埃·纳卡什', 'category': '法国', 'value': 5, 'symbolSize': 5},\n",
       " {'name': 'J·麦基·格鲁伯', 'category': '美国', 'value': 16, 'symbolSize': 16},\n",
       " {'name': '新海诚', 'category': '日本', 'value': 16, 'symbolSize': 16},\n",
       " {'name': '卢卡·瓜达尼诺', 'category': '意大利', 'value': 12, 'symbolSize': 12},\n",
       " {'name': '乔纳森·戴米', 'category': '美国', 'value': 11, 'symbolSize': 11},\n",
       " {'name': '西德尼·吕美特', 'category': '美国', 'value': 12, 'symbolSize': 12},\n",
       " {'name': '瑞奇·摩尔', 'category': '美国', 'value': 62, 'symbolSize': 62},\n",
       " {'name': '李安', 'category': '中国', 'value': 77, 'symbolSize': 77},\n",
       " {'name': '罗伯·明可夫', 'category': '美国', 'value': 10, 'symbolSize': 10},\n",
       " {'name': '细田守', 'category': '日本', 'value': 16, 'symbolSize': 16},\n",
       " {'name': '钱运达', 'category': '中国', 'value': 26, 'symbolSize': 26},\n",
       " {'name': '藤森雅也', 'category': '日本', 'value': 18, 'symbolSize': 18},\n",
       " {'name': '华森·波克彭', 'category': '泰国', 'value': 8, 'symbolSize': 8},\n",
       " {'name': '阿方索·卡隆', 'category': '英国', 'value': 14, 'symbolSize': 14},\n",
       " {'name': '彼特·道格特', 'category': '美国', 'value': 50, 'symbolSize': 50},\n",
       " {'name': '罗曼·波兰斯基', 'category': '英国', 'value': 10, 'symbolSize': 10},\n",
       " {'name': '丹尼斯·甘塞尔', 'category': '德国', 'value': 10, 'symbolSize': 10},\n",
       " {'name': '比利·怀德', 'category': '美国', 'value': 11, 'symbolSize': 11},\n",
       " {'name': '吴宇森', 'category': '中国', 'value': 16, 'symbolSize': 16},\n",
       " {'name': '大卫·芬奇', 'category': '美国', 'value': 54, 'symbolSize': 54},\n",
       " {'name': '奥里奥尔·保罗', 'category': '西班牙', 'value': 15, 'symbolSize': 15},\n",
       " {'name': '岩井俊二', 'category': '日本', 'value': 22, 'symbolSize': 22},\n",
       " {'name': '让-马克·瓦雷', 'category': '美国', 'value': 13, 'symbolSize': 13},\n",
       " {'name': '巴瑞·莱文森', 'category': '美国', 'value': 4, 'symbolSize': 4},\n",
       " {'name': '达米恩·查泽雷', 'category': '美国', 'value': 23, 'symbolSize': 23},\n",
       " {'name': '罗伯·莱纳', 'category': '美国', 'value': 61, 'symbolSize': 61},\n",
       " {'name': '李·昂克里奇', 'category': '美国', 'value': 42, 'symbolSize': 42},\n",
       " {'name': '小津安二郎', 'category': '日本', 'value': 6, 'symbolSize': 6},\n",
       " {'name': '尼克·卡萨维蒂', 'category': '美国', 'value': 10, 'symbolSize': 10},\n",
       " {'name': '迪恩·德布洛斯', 'category': '美国', 'value': 13, 'symbolSize': 13},\n",
       " {'name': '黄信尧', 'category': '中国', 'value': 17, 'symbolSize': 17},\n",
       " {'name': '罗纳尔多·德尔·卡门', 'category': '美国', 'value': 25, 'symbolSize': 25},\n",
       " {'name': '宫崎骏', 'category': '日本', 'value': 111, 'symbolSize': 111},\n",
       " {'name': 'M·奈特·沙马兰', 'category': '美国', 'value': 12, 'symbolSize': 12},\n",
       " {'name': '金秉祐', 'category': '韩国', 'value': 13, 'symbolSize': 13},\n",
       " {'name': '热拉尔·乌里', 'category': '法国', 'value': 29, 'symbolSize': 29},\n",
       " {'name': '莫滕·泰杜姆', 'category': '英国', 'value': 31, 'symbolSize': 31},\n",
       " {'name': '赛尔乔·莱昂内', 'category': '美国', 'value': 16, 'symbolSize': 16},\n",
       " {'name': '蒂姆·波顿', 'category': '美国', 'value': 46, 'symbolSize': 46},\n",
       " {'name': '路易·西霍尤斯', 'category': '美国', 'value': 15, 'symbolSize': 15},\n",
       " {'name': '弗兰克·德拉邦特', 'category': '美国', 'value': 39, 'symbolSize': 39},\n",
       " {'name': '山姆·伍德', 'category': '美国', 'value': 32, 'symbolSize': 32},\n",
       " {'name': '阿德里安·莫利纳', 'category': '美国', 'value': 23, 'symbolSize': 23},\n",
       " {'name': '拜伦·霍华德', 'category': '美国', 'value': 33, 'symbolSize': 33},\n",
       " {'name': '杰茜·尼尔森', 'category': '美国', 'value': 7, 'symbolSize': 7},\n",
       " {'name': '韦斯·安德森', 'category': '美国', 'value': 17, 'symbolSize': 17},\n",
       " {'name': '泷田洋二郎', 'category': '日本', 'value': 6, 'symbolSize': 6},\n",
       " {'name': '姜炯哲', 'category': '韩国', 'value': 12, 'symbolSize': 12},\n",
       " {'name': '吕克·贝松', 'category': '法国', 'value': 16, 'symbolSize': 16},\n",
       " {'name': '杨宇硕', 'category': '韩国', 'value': 15, 'symbolSize': 15},\n",
       " {'name': '罗伯特·怀斯', 'category': '美国', 'value': 32, 'symbolSize': 32},\n",
       " {'name': '彼得·法雷里', 'category': '美国', 'value': 32, 'symbolSize': 32},\n",
       " {'name': '高畑勋', 'category': '日本', 'value': 5, 'symbolSize': 5},\n",
       " {'name': '特瑞·乔治', 'category': '英国', 'value': 14, 'symbolSize': 14},\n",
       " {'name': '安德鲁·尼科尔', 'category': '美国', 'value': 31, 'symbolSize': 31},\n",
       " {'name': '拉娜·沃卓斯基', 'category': '美国', 'value': 67, 'symbolSize': 67},\n",
       " {'name': '卡迪亚·兰德', 'category': '巴西', 'value': 8, 'symbolSize': 8},\n",
       " {'name': '阿米尔·汗', 'category': '印度', 'value': 17, 'symbolSize': 17},\n",
       " {'name': '爱德华·兹威克', 'category': '美国', 'value': 31, 'symbolSize': 31},\n",
       " {'name': '戈尔·维宾斯基', 'category': '美国', 'value': 6, 'symbolSize': 6},\n",
       " {'name': '雷德利·斯科特', 'category': '美国', 'value': 11, 'symbolSize': 11},\n",
       " {'name': '罗伯特·泽米吉斯', 'category': '美国', 'value': 41, 'symbolSize': 41},\n",
       " {'name': '克里斯托弗·诺兰', 'category': '英国', 'value': 139, 'symbolSize': 139},\n",
       " {'name': '宁浩', 'category': '中国', 'value': 8, 'symbolSize': 8},\n",
       " {'name': '麦兆辉', 'category': '中国', 'value': 18, 'symbolSize': 18},\n",
       " {'name': '王家卫', 'category': '中国', 'value': 21, 'symbolSize': 21},\n",
       " {'name': '马丁·布莱斯特', 'category': '美国', 'value': 15, 'symbolSize': 15},\n",
       " {'name': '加布里埃莱·穆奇诺', 'category': '美国', 'value': 15, 'symbolSize': 15},\n",
       " {'name': '伦尼·阿伯拉罕森', 'category': '爱尔兰', 'value': 15, 'symbolSize': 15},\n",
       " {'name': '斯坦利·库布里克', 'category': '英国', 'value': 11, 'symbolSize': 11},\n",
       " {'name': '唐·霍尔', 'category': '美国', 'value': 15, 'symbolSize': 15},\n",
       " {'name': '詹姆斯·沃德·布柯特', 'category': '美国', 'value': 8, 'symbolSize': 8},\n",
       " {'name': '达伦·阿伦诺夫斯基', 'category': '美国', 'value': 24, 'symbolSize': 24},\n",
       " {'name': '乔·赖特', 'category': '法国', 'value': 18, 'symbolSize': 18},\n",
       " {'name': '阿兰·葛斯彭纳', 'category': '德国', 'value': 20, 'symbolSize': 20},\n",
       " {'name': '约翰·卡尼', 'category': '美国', 'value': 29, 'symbolSize': 29},\n",
       " {'name': '朴勋政', 'category': '韩国', 'value': 7, 'symbolSize': 7},\n",
       " {'name': '埃里克·托莱达诺', 'category': '法国', 'value': 5, 'symbolSize': 5},\n",
       " {'name': '柯克·德·米科', 'category': '美国', 'value': 8, 'symbolSize': 8},\n",
       " {'name': '布莱恩·辛格', 'category': '英国', 'value': 32, 'symbolSize': 32},\n",
       " {'name': '克里斯托夫·巴拉蒂', 'category': '法国', 'value': 17, 'symbolSize': 17},\n",
       " {'name': '安德鲁·斯坦顿', 'category': '美国', 'value': 25, 'symbolSize': 25},\n",
       " {'name': '雅克·贝汉', 'category': '法国', 'value': 8, 'symbolSize': 8},\n",
       " {'name': '吉恩·凯利', 'category': '美国', 'value': 53, 'symbolSize': 53},\n",
       " {'name': '杰拉德·布什', 'category': '美国', 'value': 33, 'symbolSize': 33},\n",
       " {'name': '鲍勃·彼德森', 'category': '美国', 'value': 16, 'symbolSize': 16},\n",
       " {'name': '洛芙琳·坦丹', 'category': '英国', 'value': 11, 'symbolSize': 11},\n",
       " {'name': '克里斯·雷纳德', 'category': '美国', 'value': 18, 'symbolSize': 18},\n",
       " {'name': '马克·赫尔曼', 'category': '英国', 'value': 19, 'symbolSize': 19},\n",
       " {'name': '克里斯·威廉姆斯', 'category': '美国', 'value': 15, 'symbolSize': 15},\n",
       " {'name': '克林特·伊斯特伍德', 'category': '美国', 'value': 5, 'symbolSize': 5},\n",
       " {'name': '米林宏昌', 'category': '日本', 'value': 7, 'symbolSize': 7},\n",
       " {'name': '阿尼什·查甘蒂', 'category': '美国', 'value': 24, 'symbolSize': 24},\n",
       " {'name': '保罗·格林格拉斯', 'category': '美国', 'value': 42, 'symbolSize': 42},\n",
       " {'name': '卡比尔·汗', 'category': '印度', 'value': 12, 'symbolSize': 12},\n",
       " {'name': '忻钰坤', 'category': '中国', 'value': 18, 'symbolSize': 18},\n",
       " {'name': '温子仁', 'category': '美国', 'value': 15, 'symbolSize': 15},\n",
       " {'name': '詹姆斯·卡梅隆', 'category': '美国', 'value': 96, 'symbolSize': 96},\n",
       " {'name': '克里斯·韦奇', 'category': '美国', 'value': 4, 'symbolSize': 4},\n",
       " {'name': '昆汀·塔伦蒂诺', 'category': '美国', 'value': 43, 'symbolSize': 43},\n",
       " {'name': '乔治·库克', 'category': '美国', 'value': 32, 'symbolSize': 32},\n",
       " {'name': '森淳一', 'category': '日本', 'value': 5, 'symbolSize': 5},\n",
       " {'name': '拉吉库马尔·希拉尼', 'category': '印度', 'value': 8, 'symbolSize': 8},\n",
       " {'name': '贝纳尔多·贝托鲁奇', 'category': '英国', 'value': 32, 'symbolSize': 32},\n",
       " {'name': '张艺谋', 'category': '中国', 'value': 15, 'symbolSize': 15},\n",
       " {'name': '让-皮埃尔·热内', 'category': '法国', 'value': 25, 'symbolSize': 25},\n",
       " {'name': '陆川', 'category': '中国', 'value': 6, 'symbolSize': 6},\n",
       " {'name': '严定宪', 'category': '中国', 'value': 6, 'symbolSize': 6},\n",
       " {'name': '查理·卓别林', 'category': '美国', 'value': 40, 'symbolSize': 40},\n",
       " {'name': '汤姆·麦卡锡', 'category': '美国', 'value': 14, 'symbolSize': 14},\n",
       " {'name': '延尚昊', 'category': '韩国', 'value': 14, 'symbolSize': 14},\n",
       " {'name': '神山征二郎', 'category': '日本', 'value': 12, 'symbolSize': 12},\n",
       " {'name': '郭柯', 'category': '中国', 'value': 1, 'symbolSize': 1},\n",
       " {'name': '文牧野', 'category': '中国', 'value': 19, 'symbolSize': 19},\n",
       " {'name': '今敏', 'category': '日本', 'value': 77, 'symbolSize': 77},\n",
       " {'name': '费尔南多·梅里尔斯', 'category': '巴西', 'value': 8, 'symbolSize': 8},\n",
       " {'name': '迈克·内威尔', 'category': '英国', 'value': 67, 'symbolSize': 67},\n",
       " {'name': '道格·里曼', 'category': '美国', 'value': 11, 'symbolSize': 11},\n",
       " {'name': '斯坦利·多南', 'category': '美国', 'value': 53, 'symbolSize': 53},\n",
       " {'name': '陈可辛', 'category': '中国', 'value': 8, 'symbolSize': 8},\n",
       " {'name': '弗朗西斯·福特·科波拉', 'category': '美国', 'value': 80, 'symbolSize': 80},\n",
       " {'name': '卡洛斯·沙尔丹哈', 'category': '美国', 'value': 4, 'symbolSize': 4},\n",
       " {'name': '理查德·柯蒂斯', 'category': '英国', 'value': 54, 'symbolSize': 54},\n",
       " {'name': '万籁鸣', 'category': '中国', 'value': 7, 'symbolSize': 7},\n",
       " {'name': '中岛哲也', 'category': '日本', 'value': 35, 'symbolSize': 35},\n",
       " {'name': '北野武', 'category': '日本', 'value': 13, 'symbolSize': 13},\n",
       " {'name': '秋昌旼', 'category': '韩国', 'value': 6, 'symbolSize': 6},\n",
       " {'name': '大森贵弘', 'category': '日本', 'value': 6, 'symbolSize': 6},\n",
       " {'name': '大卫·西尔弗曼', 'category': '美国', 'value': 14, 'symbolSize': 14},\n",
       " {'name': '唐澄', 'category': '中国', 'value': 7, 'symbolSize': 7},\n",
       " {'name': '拉斯·霍尔斯道姆', 'category': '美国', 'value': 8, 'symbolSize': 8},\n",
       " {'name': '盖·里奇', 'category': '英国', 'value': 7, 'symbolSize': 7},\n",
       " {'name': '肯尼思·洛纳根', 'category': '美国', 'value': 28, 'symbolSize': 28},\n",
       " {'name': '杨德昌', 'category': '中国', 'value': 29, 'symbolSize': 29},\n",
       " {'name': '达米安·斯兹弗隆', 'category': '阿根廷', 'value': 17, 'symbolSize': 17},\n",
       " {'name': '马丁·斯科塞斯', 'category': '美国', 'value': 14, 'symbolSize': 14},\n",
       " {'name': '马基德·马基迪', 'category': '伊朗', 'value': 11, 'symbolSize': 11},\n",
       " {'name': '刘镇伟', 'category': '中国', 'value': 22, 'symbolSize': 22},\n",
       " {'name': '马丁·麦克唐纳', 'category': '美国', 'value': 18, 'symbolSize': 18},\n",
       " {'name': '托尼·凯耶', 'category': '美国', 'value': 26, 'symbolSize': 26},\n",
       " {'name': '奉俊昊', 'category': '韩国', 'value': 33, 'symbolSize': 33},\n",
       " {'name': '弗洛里安·亨克尔·冯·多纳斯马尔克',\n",
       "  'category': '德国',\n",
       "  'value': 23,\n",
       "  'symbolSize': 23},\n",
       " {'name': '汤姆·提克威', 'category': '德国', 'value': 17, 'symbolSize': 17},\n",
       " {'name': '梅尔·吉布森', 'category': '澳大利亚', 'value': 20, 'symbolSize': 20},\n",
       " {'name': '保罗·杰诺维塞', 'category': '意大利', 'value': 7, 'symbolSize': 7},\n",
       " {'name': '乔治·米勒', 'category': '澳大利亚', 'value': 15, 'symbolSize': 15},\n",
       " {'name': '刘露', 'category': '中国', 'value': 12, 'symbolSize': 12},\n",
       " {'name': '大卫·叶茨', 'category': '美国', 'value': 29, 'symbolSize': 29},\n",
       " {'name': '罗杰·阿勒斯', 'category': '美国', 'value': 10, 'symbolSize': 10},\n",
       " {'name': '皮埃尔·柯芬', 'category': '美国', 'value': 18, 'symbolSize': 18},\n",
       " {'name': '李焕庆', 'category': '韩国', 'value': 8, 'symbolSize': 8},\n",
       " {'name': '理查德·林克莱特', 'category': '美国', 'value': 35, 'symbolSize': 35},\n",
       " {'name': '斯蒂芬·卓博斯基', 'category': '美国', 'value': 28, 'symbolSize': 28},\n",
       " {'name': '莉莉·沃卓斯基', 'category': '美国', 'value': 67, 'symbolSize': 67}]"
      ]
     },
     "execution_count": 21,
     "metadata": {},
     "output_type": "execute_result"
    }
   ],
   "source": [
    "nodes"
   ]
  },
  {
   "cell_type": "code",
   "execution_count": 58,
   "id": "0839842f",
   "metadata": {
    "ExecuteTime": {
     "end_time": "2022-05-05T08:43:16.404789Z",
     "start_time": "2022-05-05T08:43:04.709361Z"
    },
    "pycharm": {
     "name": "#%%\n"
    }
   },
   "outputs": [],
   "source": [
    "links = []\n",
    "category = []\n",
    "for i in range(len(node)):\n",
    "    for j in range(i+1,len(node)):\n",
    "        ac = list(set(df_actor_world[df_actor_world[\"导演\"] == node[i]][\"主演\"].values[0]) & set(df_actor_world[df_actor_world[\"导演\"] == node[j]][\"主演\"].values[0]))\n",
    "        if ac != []:\n",
    "            links.append({\"source\": node[i], \"target\": node[j], \"linewidth\":len(ac) })\n",
    "           \n",
    "for q in node:\n",
    "    category.append({\"name\": dtr[dtr[\"director\"]==q][\"country\"].values[0]})"
   ]
  },
  {
   "cell_type": "code",
   "execution_count": 59,
   "id": "36ab5986",
   "metadata": {
    "ExecuteTime": {
     "end_time": "2022-05-05T08:43:16.435829Z",
     "start_time": "2022-05-05T08:43:16.406628Z"
    }
   },
   "outputs": [
    {
     "data": {
      "text/plain": [
       "[{'name': '日本'},\n",
       " {'name': '美国'},\n",
       " {'name': '瑞典'},\n",
       " {'name': '意大利'},\n",
       " {'name': '美国'},\n",
       " {'name': '美国'},\n",
       " {'name': '意大利'},\n",
       " {'name': '英国'},\n",
       " {'name': '中国'},\n",
       " {'name': '澳大利亚'},\n",
       " {'name': '中国'},\n",
       " {'name': '印度'},\n",
       " {'name': '美国'},\n",
       " {'name': '中国'},\n",
       " {'name': '美国'},\n",
       " {'name': '美国'},\n",
       " {'name': '泰国'},\n",
       " {'name': '中国'},\n",
       " {'name': '美国'},\n",
       " {'name': '中国'},\n",
       " {'name': '中国'},\n",
       " {'name': '中国'},\n",
       " {'name': '美国'},\n",
       " {'name': '韩国'},\n",
       " {'name': '美国'},\n",
       " {'name': '日本'},\n",
       " {'name': '中国'},\n",
       " {'name': '中国'},\n",
       " {'name': '中国'},\n",
       " {'name': '黎巴嫩 '},\n",
       " {'name': '美国'},\n",
       " {'name': '美国'},\n",
       " {'name': '丹麦 '},\n",
       " {'name': '美国'},\n",
       " {'name': '美国'},\n",
       " {'name': '英国'},\n",
       " {'name': '美国'},\n",
       " {'name': '美国'},\n",
       " {'name': '中国'},\n",
       " {'name': '韩国'},\n",
       " {'name': '中国'},\n",
       " {'name': '美国'},\n",
       " {'name': '日本'},\n",
       " {'name': '法国'},\n",
       " {'name': '日本'},\n",
       " {'name': '中国'},\n",
       " {'name': '法国'},\n",
       " {'name': '美国'},\n",
       " {'name': '日本'},\n",
       " {'name': '意大利'},\n",
       " {'name': '美国'},\n",
       " {'name': '美国'},\n",
       " {'name': '美国'},\n",
       " {'name': '美国'},\n",
       " {'name': '美国'},\n",
       " {'name': '日本'},\n",
       " {'name': '中国'},\n",
       " {'name': '日本'},\n",
       " {'name': '泰国'},\n",
       " {'name': '英国'},\n",
       " {'name': '美国'},\n",
       " {'name': '英国'},\n",
       " {'name': '德国'},\n",
       " {'name': '美国'},\n",
       " {'name': '中国'},\n",
       " {'name': '美国'},\n",
       " {'name': '西班牙'},\n",
       " {'name': '日本'},\n",
       " {'name': '美国'},\n",
       " {'name': '美国'},\n",
       " {'name': '美国'},\n",
       " {'name': '美国'},\n",
       " {'name': '美国'},\n",
       " {'name': '日本'},\n",
       " {'name': '美国'},\n",
       " {'name': '美国'},\n",
       " {'name': '中国'},\n",
       " {'name': '美国'},\n",
       " {'name': '日本'},\n",
       " {'name': '美国'},\n",
       " {'name': '韩国'},\n",
       " {'name': '法国'},\n",
       " {'name': '英国'},\n",
       " {'name': '美国'},\n",
       " {'name': '美国'},\n",
       " {'name': '美国'},\n",
       " {'name': '美国'},\n",
       " {'name': '美国'},\n",
       " {'name': '美国'},\n",
       " {'name': '美国'},\n",
       " {'name': '美国'},\n",
       " {'name': '美国'},\n",
       " {'name': '日本'},\n",
       " {'name': '韩国'},\n",
       " {'name': '法国'},\n",
       " {'name': '韩国'},\n",
       " {'name': '美国'},\n",
       " {'name': '美国'},\n",
       " {'name': '日本'},\n",
       " {'name': '英国'},\n",
       " {'name': '美国'},\n",
       " {'name': '美国'},\n",
       " {'name': '巴西'},\n",
       " {'name': '印度'},\n",
       " {'name': '美国'},\n",
       " {'name': '美国'},\n",
       " {'name': '美国'},\n",
       " {'name': '美国'},\n",
       " {'name': '美国'},\n",
       " {'name': '中国'},\n",
       " {'name': '中国'},\n",
       " {'name': '中国'},\n",
       " {'name': '美国'},\n",
       " {'name': '美国'},\n",
       " {'name': '爱尔兰'},\n",
       " {'name': '英国'},\n",
       " {'name': '美国'},\n",
       " {'name': '美国'},\n",
       " {'name': '美国'},\n",
       " {'name': '法国'},\n",
       " {'name': '德国'},\n",
       " {'name': '美国'},\n",
       " {'name': '韩国'},\n",
       " {'name': '法国'},\n",
       " {'name': '美国'},\n",
       " {'name': '英国'},\n",
       " {'name': '法国'},\n",
       " {'name': '美国'},\n",
       " {'name': '法国'},\n",
       " {'name': '美国'},\n",
       " {'name': '美国'},\n",
       " {'name': '美国'},\n",
       " {'name': '英国'},\n",
       " {'name': '美国'},\n",
       " {'name': '英国'},\n",
       " {'name': '美国'},\n",
       " {'name': '美国'},\n",
       " {'name': '日本'},\n",
       " {'name': '美国'},\n",
       " {'name': '美国'},\n",
       " {'name': '印度'},\n",
       " {'name': '中国'},\n",
       " {'name': '美国'},\n",
       " {'name': '美国'},\n",
       " {'name': '美国'},\n",
       " {'name': '美国'},\n",
       " {'name': '美国'},\n",
       " {'name': '日本'},\n",
       " {'name': '印度'},\n",
       " {'name': '英国'},\n",
       " {'name': '中国'},\n",
       " {'name': '法国'},\n",
       " {'name': '中国'},\n",
       " {'name': '中国'},\n",
       " {'name': '美国'},\n",
       " {'name': '美国'},\n",
       " {'name': '韩国'},\n",
       " {'name': '日本'},\n",
       " {'name': '中国'},\n",
       " {'name': '中国'},\n",
       " {'name': '日本'},\n",
       " {'name': '巴西'},\n",
       " {'name': '英国'},\n",
       " {'name': '美国'},\n",
       " {'name': '美国'},\n",
       " {'name': '中国'},\n",
       " {'name': '美国'},\n",
       " {'name': '美国'},\n",
       " {'name': '英国'},\n",
       " {'name': '中国'},\n",
       " {'name': '日本'},\n",
       " {'name': '日本'},\n",
       " {'name': '韩国'},\n",
       " {'name': '日本'},\n",
       " {'name': '美国'},\n",
       " {'name': '中国'},\n",
       " {'name': '美国'},\n",
       " {'name': '英国'},\n",
       " {'name': '美国'},\n",
       " {'name': '中国'},\n",
       " {'name': '阿根廷'},\n",
       " {'name': '美国'},\n",
       " {'name': '伊朗'},\n",
       " {'name': '中国'},\n",
       " {'name': '美国'},\n",
       " {'name': '美国'},\n",
       " {'name': '韩国'},\n",
       " {'name': '德国'},\n",
       " {'name': '德国'},\n",
       " {'name': '美国'},\n",
       " {'name': '意大利'},\n",
       " {'name': '澳大利亚'},\n",
       " {'name': '中国'},\n",
       " {'name': '美国'},\n",
       " {'name': '美国'},\n",
       " {'name': '美国'},\n",
       " {'name': '韩国'},\n",
       " {'name': '美国'},\n",
       " {'name': '美国'},\n",
       " {'name': '美国'}]"
      ]
     },
     "execution_count": 59,
     "metadata": {},
     "output_type": "execute_result"
    }
   ],
   "source": [
    "category"
   ]
  },
  {
   "cell_type": "code",
   "execution_count": null,
   "id": "043a5595",
   "metadata": {},
   "outputs": [],
   "source": [
    "with open(\"director_world.json\", \"w\", encoding='utf-8') as f:\n",
    "    json.dump([nodes, links, category], f, indent=2, ensure_ascii=False) # 写为多行"
   ]
  },
  {
   "cell_type": "code",
   "execution_count": null,
   "id": "b0a7a1d4",
   "metadata": {},
   "outputs": [],
   "source": [
    "with open(\"director_world.json\", \"r\", encoding=\"utf-8\") as f:\n",
    "    j = json.load(f)\n",
    "    nodes, links, category = j  #, cont, mid, userl = j"
   ]
  },
  {
   "cell_type": "code",
   "execution_count": 60,
   "id": "57b7f1b5",
   "metadata": {
    "ExecuteTime": {
     "end_time": "2022-05-05T08:43:21.030133Z",
     "start_time": "2022-05-05T08:43:20.987689Z"
    }
   },
   "outputs": [],
   "source": [
    "c = (\n",
    "    Graph(init_opts=opts.InitOpts(width=\"1200px\", height=\"900px\"))\n",
    "    .add(\"\",\n",
    "        nodes,\n",
    "        links,\n",
    "        category,\n",
    "        edge_length=list(map(lambda x: x['linewidth'], links)),\n",
    "        repulsion=1000,\n",
    "        linestyle_opts=opts.LineStyleOpts(curve=0.5),\n",
    "        label_opts=opts.LabelOpts(is_show=True),\n",
    "    )\n",
    "    .set_global_opts(\n",
    "        legend_opts=opts.LegendOpts(is_show=False, pos_top=\"30\"),\n",
    "        title_opts=opts.TitleOpts(title=\"Graph-世界电影导演关系图——BQF\"),\n",
    "    )\n",
    "    .render(\"graph_movie_worlddirector1.html\")\n",
    ")\n"
   ]
  }
 ],
 "metadata": {
  "kernelspec": {
   "display_name": "PyCharm (Desktop)",
   "language": "python",
   "name": "pycharm-433fd628"
  },
  "language_info": {
   "codemirror_mode": {
    "name": "ipython",
    "version": 3
   },
   "file_extension": ".py",
   "mimetype": "text/x-python",
   "name": "python",
   "nbconvert_exporter": "python",
   "pygments_lexer": "ipython3",
   "version": "3.8.8"
  }
 },
 "nbformat": 4,
 "nbformat_minor": 5
}